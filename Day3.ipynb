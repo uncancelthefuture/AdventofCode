{
 "cells": [
  {
   "cell_type": "code",
   "execution_count": 1,
   "id": "4964a81a-3251-4481-8126-db9342602e89",
   "metadata": {},
   "outputs": [
    {
     "data": {
      "text/plain": [
       "522726"
      ]
     },
     "execution_count": 1,
     "metadata": {},
     "output_type": "execute_result"
    }
   ],
   "source": [
    "import re\n",
    "from collections import defaultdict\n",
    "\n",
    "f = open(\"3-input.txt\", \"r\")\n",
    "\n",
    "d = f.read()\n",
    "\n",
    "f.close()\n",
    "\n",
    "w = d.index(\"\\n\") + 1\n",
    "\n",
    "\n",
    "not_pattern = re.compile(\"\\n|\\.|0|1|2|3|4|5|6|7|8|9\")\n",
    "\n",
    "def adjacent(x0, x1):\n",
    "    S = {x0 - 1,x1 + 1}\n",
    "    S = S.union(set(range(x0 - 1 - w,x1 + 2 - w)))\n",
    "    S = S.union(set(range(x0 - 1 + w,x1 + 2 + w)))\n",
    "    return S\n",
    "\n",
    "def check_match(S,x):\n",
    "    for i in S:\n",
    "        try:\n",
    "            if not(bool(not_pattern.match(x[i]))):\n",
    "                return True\n",
    "        except:\n",
    "            IndexError\n",
    "    return False\n",
    "    \n",
    "def get_total(s):\n",
    "    active = []\n",
    "    buffer = []\n",
    "    adj = []\n",
    "    total = 0\n",
    "    for i in range(len(s)):\n",
    "        if re.match('\\d', s[i]):\n",
    "            buffer.append(i)\n",
    "        else:\n",
    "            try:\n",
    "                active = (buffer[0],buffer[-1])\n",
    "                buffer = []\n",
    "                adj = adjacent(active[0],active[1])\n",
    "                if check_match(adj,s):\n",
    "                    x = int(s[active[0]:active[1]+1])\n",
    "                    total += x\n",
    "            except:\n",
    "                IndexError\n",
    "              \n",
    "    return total\n",
    "    \n",
    "get_total(d)           "
   ]
  },
  {
   "cell_type": "code",
   "execution_count": 2,
   "id": "efed0f31-e3da-4657-98a5-66c43329d675",
   "metadata": {},
   "outputs": [
    {
     "data": {
      "text/plain": [
       "81721933"
      ]
     },
     "execution_count": 2,
     "metadata": {},
     "output_type": "execute_result"
    }
   ],
   "source": [
    "gears = defaultdict(lambda:[])\n",
    "\n",
    "def check_gear(S,x):\n",
    "    p = []\n",
    "    for i in S:\n",
    "        try:\n",
    "            if x[i] == '*':\n",
    "                p.append(i)\n",
    "        except:\n",
    "            IndexError\n",
    "    return p\n",
    "\n",
    "def get_gears(s):\n",
    "    active = []\n",
    "    buffer = []\n",
    "    adj = []\n",
    "    total = 0\n",
    "    for i in range(len(s)):\n",
    "        if re.match('\\d', s[i]):\n",
    "            buffer.append(i)\n",
    "        else:\n",
    "            try:\n",
    "                active = (buffer[0],buffer[-1])\n",
    "                buffer = []\n",
    "                adj = adjacent(active[0],active[1])\n",
    "                for g in check_gear(adj,s):\n",
    "                    gears[g].append(int(s[active[0]:active[1]+1]))\n",
    "            except:\n",
    "                IndexError\n",
    "    for key in gears.keys():\n",
    "        if len(gears[key])==2:\n",
    "            l = gears[key]\n",
    "            total += l[0]*l[1]\n",
    "    return total\n",
    "\n",
    "get_gears(d)"
   ]
  }
 ],
 "metadata": {
  "kernelspec": {
   "display_name": "Python 3 (ipykernel)",
   "language": "python",
   "name": "python3"
  },
  "language_info": {
   "codemirror_mode": {
    "name": "ipython",
    "version": 3
   },
   "file_extension": ".py",
   "mimetype": "text/x-python",
   "name": "python",
   "nbconvert_exporter": "python",
   "pygments_lexer": "ipython3",
   "version": "3.11.6"
  }
 },
 "nbformat": 4,
 "nbformat_minor": 5
}
