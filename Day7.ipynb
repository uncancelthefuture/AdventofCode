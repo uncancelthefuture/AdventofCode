{
 "cells": [
  {
   "cell_type": "code",
   "execution_count": 18,
   "id": "772f3eea-d915-4f05-a47f-752d739865c6",
   "metadata": {},
   "outputs": [],
   "source": [
    "import re\n",
    "\n",
    "f = open(\"7-input.txt\", \"r\")\n",
    "\n",
    "data = f.read().split(\"\\n\")\n",
    "\n",
    "f.close()\n",
    "\n",
    "data = [x.strip().split(\" \") for x in data]"
   ]
  },
  {
   "cell_type": "code",
   "execution_count": 19,
   "id": "c1cb8bf9-e221-4443-b537-dc356a04bc0d",
   "metadata": {},
   "outputs": [
    {
     "data": {
      "text/plain": [
       "250951660"
      ]
     },
     "execution_count": 19,
     "metadata": {},
     "output_type": "execute_result"
    }
   ],
   "source": [
    "from collections import defaultdict\n",
    "import heapq as hq\n",
    "\n",
    "def card_rank(x):\n",
    "    match x:\n",
    "        case \"A\":\n",
    "            return 'e'\n",
    "        case \"K\":\n",
    "            return 'd'\n",
    "        case \"Q\":\n",
    "            return 'c'\n",
    "        case \"J\":\n",
    "            return 'b'\n",
    "        case \"T\":\n",
    "            return 'a'\n",
    "            \n",
    "    return x\n",
    "\n",
    "def hand_type(d):\n",
    "    triple = 0\n",
    "    pair = 0\n",
    "    for k in d.keys():\n",
    "        val = d[k]\n",
    "        if val >= 4:\n",
    "            return val + 1\n",
    "        elif d[k] == 3:\n",
    "             triple += 1\n",
    "        elif d[k] == 2:\n",
    "             pair += 1\n",
    "    if triple > 0 and pair > 0:\n",
    "        return 4\n",
    "    elif triple > 0:\n",
    "        return 3\n",
    "    elif pair > 1:\n",
    "        return 2\n",
    "    elif pair > 0:\n",
    "        return 1\n",
    "    return 0\n",
    "\n",
    "def hand_rank(hand):\n",
    "    rank = \"\"\n",
    "    d = defaultdict(lambda: 0)\n",
    "    for card in hand:\n",
    "        r = card_rank(card)\n",
    "        rank += r\n",
    "        d[r] += 1\n",
    "    return int(str(hand_type(d)) + rank,16)\n",
    "\n",
    "hands = []\n",
    "\n",
    "for x in data:\n",
    "    x  = (hand_rank(x[0]), int(x[1]))\n",
    "    hq.heappush(hands,x)\n",
    "\n",
    "total = 0\n",
    "count = 1\n",
    "while hands != []:\n",
    "    x = hq.heappop(hands)\n",
    "    total += (count*x[1])\n",
    "    count += 1\n",
    "total\n",
    "        "
   ]
  },
  {
   "cell_type": "code",
   "execution_count": 20,
   "id": "8bf2c389-594f-43be-8fbc-73727eaf41bf",
   "metadata": {},
   "outputs": [
    {
     "data": {
      "text/plain": [
       "251481660"
      ]
     },
     "execution_count": 20,
     "metadata": {},
     "output_type": "execute_result"
    }
   ],
   "source": [
    "def new_card_rank(x):\n",
    "    if x == \"J\":\n",
    "        return '1'\n",
    "    else:\n",
    "        return card_rank(x)\n",
    "\n",
    "def new_hand_type(d):\n",
    "    wild = d['1']\n",
    "    d['1'] = 0\n",
    "    M = wild\n",
    "    Mkey = '1'\n",
    "    for k in d.keys():\n",
    "        if d[k] + wild > M:\n",
    "            Mkey = k\n",
    "            M = d[k] + wild\n",
    "    d[Mkey] = M\n",
    "    return hand_type(d)\n",
    "\n",
    "def new_hand_rank(hand):\n",
    "    rank = \"\"\n",
    "    d = defaultdict(lambda: 0)\n",
    "    for card in hand:\n",
    "        r = new_card_rank(card)\n",
    "        rank += r\n",
    "        d[r] += 1\n",
    "    return int(str(new_hand_type(d)) + rank, 16)\n",
    "\n",
    "hands = []\n",
    "\n",
    "for x in data:\n",
    "    x  = (new_hand_rank(x[0]), int(x[1]))\n",
    "    hq.heappush(hands, x)\n",
    "\n",
    "total = 0\n",
    "count = 1\n",
    "while hands != []:\n",
    "    x = hq.heappop(hands)\n",
    "    total += (count * x[1])\n",
    "    count += 1\n",
    "total\n"
   ]
  }
 ],
 "metadata": {
  "kernelspec": {
   "display_name": "Python 3 (ipykernel)",
   "language": "python",
   "name": "python3"
  },
  "language_info": {
   "codemirror_mode": {
    "name": "ipython",
    "version": 3
   },
   "file_extension": ".py",
   "mimetype": "text/x-python",
   "name": "python",
   "nbconvert_exporter": "python",
   "pygments_lexer": "ipython3",
   "version": "3.11.6"
  }
 },
 "nbformat": 4,
 "nbformat_minor": 5
}
