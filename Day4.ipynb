{
 "cells": [
  {
   "cell_type": "code",
   "execution_count": 37,
   "id": "73e42325-1348-42e2-9505-c522b48bad77",
   "metadata": {},
   "outputs": [
    {
     "data": {
      "text/plain": [
       "19855"
      ]
     },
     "execution_count": 37,
     "metadata": {},
     "output_type": "execute_result"
    }
   ],
   "source": [
    "import re\n",
    "\n",
    "f = open(\"4-input.txt\",\"r\")\n",
    "\n",
    "d = f.read().strip().split(\"\\n\")\n",
    "\n",
    "f.close()\n",
    "\n",
    "pattern = re.compile(\".*:\\s+\")\n",
    "\n",
    "d = [re.split(\"\\s+\\|\\s+\",pattern.sub(\"\", x)) for x in d]\n",
    "total = 0\n",
    "for l in d:\n",
    "    sub = 0\n",
    "    s = set(map(int,re.split(\"\\s+\",l[0])))\n",
    "    c = list(map(int,re.split(\"\\s+\",l[1])))\n",
    "    for x in c:\n",
    "        if x in s:\n",
    "            sub = max(1,sub * 2)\n",
    "    total += sub\n",
    "total"
   ]
  },
  {
   "cell_type": "code",
   "execution_count": 41,
   "id": "931fe668-00ed-4e56-96fb-ac5eedb5ebf8",
   "metadata": {},
   "outputs": [
    {
     "data": {
      "text/plain": [
       "10378710"
      ]
     },
     "execution_count": 41,
     "metadata": {},
     "output_type": "execute_result"
    }
   ],
   "source": [
    "from collections import defaultdict\n",
    "cards = defaultdict(lambda:1)\n",
    "i = 0\n",
    "total = 0\n",
    "for l in d:\n",
    "    i += 1\n",
    "    sub = 0\n",
    "    s = set(map(int,re.split(\"\\s+\",l[0])))\n",
    "    c = list(map(int,re.split(\"\\s+\",l[1])))\n",
    "    for x in c:\n",
    "        if x in s:\n",
    "            sub += 1\n",
    "    for j in range(1,sub + 1):\n",
    "        cards[i+j]+= cards[i]\n",
    "    total += cards[i]\n",
    "total"
   ]
  }
 ],
 "metadata": {
  "kernelspec": {
   "display_name": "Python 3 (ipykernel)",
   "language": "python",
   "name": "python3"
  },
  "language_info": {
   "codemirror_mode": {
    "name": "ipython",
    "version": 3
   },
   "file_extension": ".py",
   "mimetype": "text/x-python",
   "name": "python",
   "nbconvert_exporter": "python",
   "pygments_lexer": "ipython3",
   "version": "3.11.6"
  }
 },
 "nbformat": 4,
 "nbformat_minor": 5
}
