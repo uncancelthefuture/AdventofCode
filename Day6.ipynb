{
 "cells": [
  {
   "cell_type": "code",
   "execution_count": 35,
   "id": "8a8b4b58-d16a-46a7-9788-df3a29fd0238",
   "metadata": {},
   "outputs": [
    {
     "name": "stdout",
     "output_type": "stream",
     "text": [
      "[46, 85, 75, 82] [208, 1412, 1257, 1410]\n",
      "35\n",
      "40\n",
      "24\n",
      "33\n"
     ]
    },
    {
     "data": {
      "text/plain": [
       "1108800"
      ]
     },
     "execution_count": 35,
     "metadata": {},
     "output_type": "execute_result"
    }
   ],
   "source": [
    "import re\n",
    "import math\n",
    "\n",
    "f = open(\"6-input.txt\", \"r\")\n",
    "\n",
    "data  = f.read().split(\"\\n\")\n",
    "\n",
    "f.close()\n",
    "\n",
    "times = list(map (int, re.split(\"\\s+\", re.sub(\".*:\\s+\",\"\", data[0]))))\n",
    "\n",
    "records = list(map (int, re.split(\"\\s+\", re.sub(\".*:\\s+\",\"\", data[1]))))\n",
    "print(times, records)\n",
    "N = len(times)\n",
    "prod = 1\n",
    "\n",
    "for i in range(N):\n",
    "    t = times[i]\n",
    "    r = records[i]\n",
    "    for x in range(0,t):\n",
    "        if (t - x) * x > r:\n",
    "            val = (t - (2 * x) + 1)\n",
    "            prod *= val\n",
    "            print(val)\n",
    "            break\n",
    "prod"
   ]
  },
  {
   "cell_type": "code",
   "execution_count": 41,
   "id": "80ebc47e-265f-4136-9606-581fb0ccb8c0",
   "metadata": {},
   "outputs": [
    {
     "data": {
      "text/plain": [
       "4968914"
      ]
     },
     "execution_count": 41,
     "metadata": {},
     "output_type": "execute_result"
    }
   ],
   "source": [
    "t = int(re.sub(\".*:\\s+|\\s+\",\"\", data[0]))\n",
    "r = int(re.sub(\".*:\\s+|\\s+\",\"\", data[1]))\n",
    "\n",
    "x_approx = int((t - math.sqrt(t**2 - 4 * r))/2)\n",
    "\n",
    "x_approx\n",
    "for i in range(N):\n",
    "    t = times[i]\n",
    "    r = records[i]\n",
    "    for x in range(0,t):\n",
    "        if (t - x) * x > r:\n",
    "            val = (t - (2 * x) + 1)"
   ]
  }
 ],
 "metadata": {
  "kernelspec": {
   "display_name": "Python 3 (ipykernel)",
   "language": "python",
   "name": "python3"
  },
  "language_info": {
   "codemirror_mode": {
    "name": "ipython",
    "version": 3
   },
   "file_extension": ".py",
   "mimetype": "text/x-python",
   "name": "python",
   "nbconvert_exporter": "python",
   "pygments_lexer": "ipython3",
   "version": "3.11.6"
  }
 },
 "nbformat": 4,
 "nbformat_minor": 5
}
