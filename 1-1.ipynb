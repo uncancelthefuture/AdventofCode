{
 "cells": [
  {
   "cell_type": "code",
   "execution_count": 1,
   "id": "d32422a1-7032-47ff-8235-44e7bb5ad349",
   "metadata": {},
   "outputs": [
    {
     "data": {
      "text/plain": [
       "54239"
      ]
     },
     "execution_count": 1,
     "metadata": {},
     "output_type": "execute_result"
    }
   ],
   "source": [
    "import re\n",
    "\n",
    "f = open(\"1-input.txt\", \"r\")\n",
    "\n",
    "sol1 = sum([int(re.sub(\"\\D*+\", \"\", x)[0] + re.sub(\"\\D*+\", \"\", x)[-1]) for x in f.read().strip().split(\"\\n\")])\n",
    "\n",
    "f.close()\n",
    "\n",
    "sol1"
   ]
  },
  {
   "cell_type": "code",
   "execution_count": 2,
   "id": "6ba1c4e0-b7ae-4869-93cd-32217e51e57c",
   "metadata": {},
   "outputs": [
    {
     "data": {
      "text/plain": [
       "55343"
      ]
     },
     "execution_count": 2,
     "metadata": {},
     "output_type": "execute_result"
    }
   ],
   "source": [
    "S = {'on(?=e)', \n",
    "         'tw(?=o)', \n",
    "         'thre(?=e)',\n",
    "         'four',\n",
    "         'fiv(?=e)',\n",
    "         'six',\n",
    "         'seve(?=n)',\n",
    "         'eigh(?=t)',\n",
    "         'nin(?=e)'}\n",
    "\n",
    "d2 = {'on':'1', \n",
    "         'tw':'2', \n",
    "         'thre':'3',\n",
    "         'four':'4',\n",
    "         'fiv':'5',\n",
    "         'six':'6',\n",
    "         'seve':'7',\n",
    "         'eigh':'8',\n",
    "         'nin':'9'}\n",
    "\n",
    "\n",
    "f = open(\"1-input.txt\", \"r\")\n",
    "pattern = re.compile(('|'.join(k for k in S)))\n",
    "data = [pattern.sub(lambda x: d2[x.group()], y) for y in f.read().strip().split(\"\\n\")]\n",
    "data = [int(re.sub(\"\\D*+\", \"\", x)[0] + re.sub(\"\\D*+\", \"\", x)[-1]) for x in data]\n",
    "\n",
    "f.close()\n",
    "\n",
    "sum(data)"
   ]
  }
 ],
 "metadata": {
  "kernelspec": {
   "display_name": "Python 3 (ipykernel)",
   "language": "python",
   "name": "python3"
  },
  "language_info": {
   "codemirror_mode": {
    "name": "ipython",
    "version": 3
   },
   "file_extension": ".py",
   "mimetype": "text/x-python",
   "name": "python",
   "nbconvert_exporter": "python",
   "pygments_lexer": "ipython3",
   "version": "3.11.6"
  }
 },
 "nbformat": 4,
 "nbformat_minor": 5
}
