{
 "cells": [
  {
   "cell_type": "code",
   "execution_count": 29,
   "id": "d5a6eaa2-aab1-46b7-8d80-878c07eae4ed",
   "metadata": {},
   "outputs": [
    {
     "name": "stdout",
     "output_type": "stream",
     "text": [
      "3099\n"
     ]
    }
   ],
   "source": [
    "import re\n",
    "\n",
    "f = open(\"2-input.txt\",\"r\")\n",
    "\n",
    "data = f.read().split('\\n')\n",
    "\n",
    "f.close()\n",
    "\n",
    "red = 12\n",
    "green = 13\n",
    "blue = 14\n",
    "\n",
    "i = 0\n",
    "m = 0 \n",
    "for l in data:\n",
    "    i += 1\n",
    "    l = re.sub('.*:','', l).strip()\n",
    "    l = re.split('\\s|,\\s|;\\s', l)\n",
    "    while len(l) > 0:\n",
    "        if int(l[0]) > 14:\n",
    "            break\n",
    "        if int(l[0]) == 13 and l[1] == 'red':\n",
    "            break\n",
    "        elif int(l[0]) == 14 and l[1] != 'blue':\n",
    "            break\n",
    "        try:\n",
    "            l = l[2:]\n",
    "        except:\n",
    "            ValueError\n",
    "    if len(l) == 0:\n",
    "        m += i\n",
    "    \n",
    "print(m)\n"
   ]
  },
  {
   "cell_type": "code",
   "execution_count": 31,
   "id": "64dfa6db-e6f1-4653-b693-3f0a1dbbc8e7",
   "metadata": {},
   "outputs": [
    {
     "name": "stdout",
     "output_type": "stream",
     "text": [
      "72970\n"
     ]
    }
   ],
   "source": [
    "m = 0 \n",
    "for l in data:\n",
    "    d = {'red':0,'blue':0,'green':0}\n",
    "    l = re.sub('.*:','', l).strip()\n",
    "    l = re.split('\\s|,\\s|;\\s', l)\n",
    "    while len(l) > 0:\n",
    "        d[l[1]]=max(int(l[0]),d[l[1]])\n",
    "        try:\n",
    "            l = l[2:]\n",
    "        except:\n",
    "            ValueError\n",
    "    if len(l) == 0:\n",
    "        m += d['red']*d['blue']*d['green']\n",
    "print(m)"
   ]
  }
 ],
 "metadata": {
  "kernelspec": {
   "display_name": "Python 3 (ipykernel)",
   "language": "python",
   "name": "python3"
  },
  "language_info": {
   "codemirror_mode": {
    "name": "ipython",
    "version": 3
   },
   "file_extension": ".py",
   "mimetype": "text/x-python",
   "name": "python",
   "nbconvert_exporter": "python",
   "pygments_lexer": "ipython3",
   "version": "3.11.6"
  }
 },
 "nbformat": 4,
 "nbformat_minor": 5
}
